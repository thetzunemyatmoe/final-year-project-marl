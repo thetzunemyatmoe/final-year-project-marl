{
 "cells": [
  {
   "cell_type": "code",
   "execution_count": 1,
   "id": "cbb727f7",
   "metadata": {},
   "outputs": [],
   "source": [
    "import time\n",
    "from utils import display_plot, save_reward\n",
    "from learner import train\n",
    "from environment import MultiAgentGridEnv"
   ]
  },
  {
   "cell_type": "code",
   "execution_count": 2,
   "id": "89719e89",
   "metadata": {},
   "outputs": [],
   "source": [
    "gamma = 0.999\n",
    "actor_lr = 0.0001\n",
    "critic_lr = 0.001\n",
    "entropy_weight = 0.05"
   ]
  },
  {
   "cell_type": "code",
   "execution_count": 3,
   "id": "513e2697",
   "metadata": {},
   "outputs": [],
   "source": [
    "key1 = 'total area weight'\n",
    "key2 = 'overlap weight'\n",
    "key3 = 'energy weight'\n",
    "reward_weight_configs = [\n",
    "    {key1: 12.0, key2: 0.8, key3: 4.0},\n",
    "]"
   ]
  },
  {
   "cell_type": "code",
   "execution_count": 4,
   "id": "0c99ee7d",
   "metadata": {},
   "outputs": [],
   "source": [
    "rewards_list = []\n",
    "episodes_list = []\n",
    "names = []"
   ]
  },
  {
   "cell_type": "code",
   "execution_count": 5,
   "id": "85cae8cd",
   "metadata": {},
   "outputs": [
    {
     "name": "stdout",
     "output_type": "stream",
     "text": [
      "Episode 0 return: -18068.70\n",
      "Episode 1000 return: -2270.60\n",
      "Episode 2000 return: 992.20\n",
      "Episode 3000 return: 354.70\n",
      "Episode 4000 return: 2784.10\n",
      "---------------------------------\n"
     ]
    }
   ],
   "source": [
    "for index, reward_weight in enumerate(reward_weight_configs):\n",
    "    _, rewards, episodes = train(max_episode=5000, actor_lr=actor_lr,\n",
    "                                 critic_lr=critic_lr, gamma=gamma, entropy_weight=entropy_weight, reward_weight=reward_weight, path=f'rewardweight/config{index}')\n",
    "    rewards_list.append(rewards)\n",
    "    episodes_list.append(episodes)\n",
    "    names.append(f'config{index}')\n",
    "\n",
    "    save_reward(\n",
    "        f'reward/rewardweight/config{index}/reward.txt', rewards=rewards)\n",
    "    time.sleep(120)\n",
    "    print('---------------------------------')"
   ]
  },
  {
   "cell_type": "code",
   "execution_count": 6,
   "id": "08177696",
   "metadata": {},
   "outputs": [
    {
     "name": "stdout",
     "output_type": "stream",
     "text": [
      "Plot saved\n"
     ]
    },
    {
     "name": "stderr",
     "output_type": "stream",
     "text": [
      "/Users/thetzunemyatmoe/Desktop/Artificial Intelligence And Computer Science/Year 3/Final Year Project/code/MARL_Implementation/actor-critic/IA2CC/utils.py:64: UserWarning: FigureCanvasAgg is non-interactive, and thus cannot be shown\n",
      "  plt.show()\n"
     ]
    }
   ],
   "source": [
    "display_plot(rewards_list=rewards_list, episodes_list=episodes_list, names=names,\n",
    "             plot_title='Graph', filename='reward_trend', save=True)"
   ]
  }
 ],
 "metadata": {
  "kernelspec": {
   "display_name": "venv",
   "language": "python",
   "name": "python3"
  },
  "language_info": {
   "codemirror_mode": {
    "name": "ipython",
    "version": 3
   },
   "file_extension": ".py",
   "mimetype": "text/x-python",
   "name": "python",
   "nbconvert_exporter": "python",
   "pygments_lexer": "ipython3",
   "version": "3.12.4"
  }
 },
 "nbformat": 4,
 "nbformat_minor": 5
}
